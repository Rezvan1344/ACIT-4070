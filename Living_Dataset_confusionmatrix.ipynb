{
  "nbformat": 4,
  "nbformat_minor": 0,
  "metadata": {
    "colab": {
      "name": "Living_Dataset_confusionmatrix.ipynb",
      "provenance": [],
      "collapsed_sections": [],
      "authorship_tag": "ABX9TyNUlIaYU79iEIaaeDDslXdi",
      "include_colab_link": true
    },
    "kernelspec": {
      "name": "python3",
      "display_name": "Python 3"
    },
    "language_info": {
      "name": "python"
    }
  },
  "cells": [
    {
      "cell_type": "markdown",
      "metadata": {
        "id": "view-in-github",
        "colab_type": "text"
      },
      "source": [
        "<a href=\"https://colab.research.google.com/github/Rezvan1344/ACIT-4070/blob/main/Living_Dataset_confusionmatrix.ipynb\" target=\"_parent\"><img src=\"https://colab.research.google.com/assets/colab-badge.svg\" alt=\"Open In Colab\"/></a>"
      ]
    },
    {
      "cell_type": "code",
      "source": [
        "import numpy as np # linear algebra\n",
        "import pandas as pd # data processing, CSV file I/O (e.g. pd.read_csv)\n",
        "import seaborn as sns # data visualization library  \n",
        "import matplotlib.pyplot as plt"
      ],
      "metadata": {
        "id": "vrMPG2rvLN6a"
      },
      "execution_count": null,
      "outputs": []
    },
    {
      "cell_type": "code",
      "source": [
        "import os\n",
        "data = pd.read_csv('/content/Living_conditions_survey_only_2009_15_Cols_6201.csv')\n",
        "import warnings\n",
        "warnings.filterwarnings('ignore')"
      ],
      "metadata": {
        "id": "P3Mg_NkILTil"
      },
      "execution_count": null,
      "outputs": []
    },
    {
      "cell_type": "code",
      "source": [
        "y=data.Sp63b_09.values\n",
        "#normalization\n",
        "x_data=data.drop([\"Sp63b_09\"], axis=1)\n",
        "x=(x_data-np.min(x_data))/(np.max(x_data) -np.min(x_data))"
      ],
      "metadata": {
        "id": "ztPDiqd_Lo6U"
      },
      "execution_count": null,
      "outputs": []
    },
    {
      "cell_type": "code",
      "source": [
        "from sklearn.model_selection import train_test_split\n",
        "x_train,x_test,y_train,y_test=train_test_split(x,y,test_size=0.3,random_state=1)"
      ],
      "metadata": {
        "id": "djg5DkozN1st"
      },
      "execution_count": null,
      "outputs": []
    },
    {
      "cell_type": "code",
      "source": [
        "from sklearn.linear_model import LogisticRegression\n",
        "lr=LogisticRegression()\n",
        "lr.fit(x_train,y_train)\n",
        "print('lr accuracy :', lr.score(x_test,y_test))\n",
        "\n",
        "# confusion matrix\n",
        "y_pred = lr.predict(x_test)\n",
        "y_true = y_test\n",
        "from sklearn.metrics import confusion_matrix\n",
        "\n",
        "cm_lr = confusion_matrix(y_true,y_pred)"
      ],
      "metadata": {
        "colab": {
          "base_uri": "https://localhost:8080/"
        },
        "id": "Y5BWEkaEN6ct",
        "outputId": "10f2a7b0-3b56-48e9-ca4f-d7f6a93606d3"
      },
      "execution_count": null,
      "outputs": [
        {
          "output_type": "stream",
          "name": "stdout",
          "text": [
            "lr accuracy : 0.9279957012358947\n"
          ]
        }
      ]
    },
    {
      "cell_type": "code",
      "source": [
        "from sklearn.svm import SVC\n",
        "svm=SVC(random_state=1)\n",
        "svm.fit(x_train,y_train)\n",
        "print('svm accuracy :', svm.score(x_test,y_test))\n",
        "\n",
        "# confisuon matrix\n",
        "y_pred = svm.predict(x_test)\n",
        "y_true = y_test\n",
        "from sklearn.metrics import confusion_matrix\n",
        "\n",
        "cm_svm = confusion_matrix(y_true,y_pred)"
      ],
      "metadata": {
        "colab": {
          "base_uri": "https://localhost:8080/"
        },
        "id": "xPwxwmRoOW1y",
        "outputId": "24df752b-4008-40f6-81a9-9cfab025a231"
      },
      "execution_count": null,
      "outputs": [
        {
          "output_type": "stream",
          "name": "stdout",
          "text": [
            "svm accuracy : 0.9274583557227297\n"
          ]
        }
      ]
    },
    {
      "cell_type": "code",
      "source": [
        "plt.figure(figsize=(20,15))\n",
        "\n",
        "plt.suptitle(\"Confusion Matrixes\",fontsize=20)\n",
        "\n",
        "plt.subplot(2,3,1)\n",
        "plt.title(\"Logistic Regression Confusion Matrix\")\n",
        "sns.heatmap(cm_lr,cbar=False,annot=True,cmap=\"Greens\",fmt=\"d\")\n",
        "\n",
        "\n",
        "plt.subplot(2,3,3)\n",
        "plt.title(\"Support Vector Machine Confusion Matrix\")\n",
        "sns.heatmap(cm_svm,cbar=False,annot=True,cmap=\"Greens\",fmt=\"d\")\n",
        "\n",
        "plt.show()\n"
      ],
      "metadata": {
        "colab": {
          "base_uri": "https://localhost:8080/",
          "height": 398
        },
        "id": "cvvFaX_qOprY",
        "outputId": "42a66114-2e79-452f-9c47-8a5085dd80a4"
      },
      "execution_count": null,
      "outputs": [
        {
          "output_type": "display_data",
          "data": {
            "text/plain": [
              "<Figure size 1440x1080 with 2 Axes>"
            ],
            "image/png": "[encoded data removed]"
          },
          "metadata": {
            "needs_background": "light"
          }
        }
      ]
    }
  ]
}